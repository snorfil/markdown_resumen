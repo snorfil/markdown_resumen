{
 "cells": [
  {
   "cell_type": "markdown",
   "id": "56d66fe5-c3b7-433f-8792-6bcadcc276a1",
   "metadata": {},
   "source": [
    "<p id=\"1\"></p>\n",
    "# Titulo durisimo"
   ]
  },
  {
   "cell_type": "markdown",
   "id": "d5f30b4c-acfe-4492-afbc-9b96092dead2",
   "metadata": {},
   "source": [
    "# EJEMPLO DE LINKS ENTRE EL DOCUMENTO\r\n",
    "\r\n",
    "## Introducción <a name=\"introduccion\"></a>\r\n",
    "Bienvenido a mi documento. Esta es la introducción.\r\n",
    "\r\n",
    "## Sección 1 <a name=\"seccion-1\"></a>\r\n",
    "En esta sección hablaremos sobre algo interesante.\r\n",
    "\r\n",
    "## Sección 2 <a name=\"seccion-2\"></a>\r\n",
    "Aquí exploraremos otro tema fascinante.\r\n",
    "\r\n",
    "## Conclusiones <a name=\"conclusiones\"></a>\r\n",
    "En conclusión, mi documento es increíblemente informativo.\r\n",
    "\r\n",
    "---\r\n",
    "\r\n",
    "Puedes [regresar a la Introducción](#introduccion) en cualquier momento para recordar los conceptos básicos.\r\n",
    "\r\n",
    "Si estás interesado en más detalles, visita la [Sección 1](#seccion-1) o la [Sección 2](#seccion-2).\r\n",
    "\r\n",
    "Y para obtener las conclusiones finales, dirígete a la sección de [Conclusiones](#conclusiones).\r\n"
   ]
  },
  {
   "cell_type": "markdown",
   "id": "2b95263a-7cc2-4a50-bdf8-0e6c2c7499fa",
   "metadata": {
    "jp-MarkdownHeadingCollapsed": true
   },
   "source": [
    "# Documento Matemático\n",
    "\n",
    "## Ecuación Cuadrática <a name=\"ecuacion-cuadratica\"></a>\n",
    "\n",
    "La ecuación cuadrática general se expresa como:\n",
    "\n",
    "\\[ ax^2 + bx + c = 0 \\]\n",
    "\n",
    "Donde:\n",
    "- \\(a\\), \\(b\\), y \\(c\\) son coeficientes.\n",
    "- \\(x\\) es la variable.\n",
    "\n",
    "La solución para \\(x\\) se puede encontrar usando la fórmula cuadrática:\n",
    "\n",
    "\\[ x = \\frac{{-b \\pm \\sqrt{{b^2 - 4ac}}}}{{2a}} \\]\n",
    "\n",
    "## Identidad Trigonométrica <a name=\"identidad-trigonometrica\"></a>\n",
    "\n",
    "Una identidad trigonométrica común es la identidad pitagórica:\n",
    "\n",
    "\\[ \\sin^2 \\theta + \\cos^2 \\theta = 1 \\]\n",
    "\n",
    "Esta identidad es válida para cualquier ángulo \\(\\theta\\).\n",
    "\n",
    "---\n",
    "\n",
    "Puedes [explorar la Ecuación Cuadrática](#ecuacion-cuadratica) o la [Identidad Trigonométrica](#identidad-trigonometrica) para obtener más detalles.\n"
   ]
  },
  {
   "cell_type": "markdown",
   "id": "06971458-0836-41c4-8654-6f014da94cd8",
   "metadata": {},
   "source": [
    "# Citas\n",
    "\n",
    "## Introducción\n",
    "\n",
    "Este es un documento de ejemplo que ilustra el uso de separadores y citas en Markdown.\n",
    "\n",
    "---\n",
    "\n",
    "## Sección 1\n",
    "\n",
    "   En esta sección, exploraremos algunos conceptos interesantes.\n",
    "\n",
    "   > \"La curiosidad sobre la vida en todos los aspectos, creo, sigue siendo el secreto de los grandes creativos.\" - Leo Burnett\n",
    "\n",
    "---\n",
    "\n",
    "## Sección 2\n",
    "\n",
    "   Vamos a profundizar en otro tema fascinante.\n",
    "\n",
    "   > La imaginación es más importante que el conocimiento. - Albert Einstein\n",
    "\n",
    "---\n",
    "\n",
    "## Conclusión\n",
    "\n",
    "En conclusión, el Markdown es una forma versátil de escribir y formatear documentos.\n",
    "\n",
    "---\n",
    "\n",
    "   Puedes [regresar a la Introducción](#introduccion) en cualquier momento para recordar los conceptos básicos.\n",
    "\n",
    "   Si estás interesado en más detalles, visita la [Sección 1](#seccion-1) o la [Sección 2](#seccion-2).\n"
   ]
  },
  {
   "cell_type": "markdown",
   "id": "6f4383be-4929-4160-b350-4297a8dd8f92",
   "metadata": {},
   "source": [
    "    # Caracteres Especiales\r\n",
    "\r\n",
    "En Markdown, algunos caracteres tienen un significado especial. Puedes escaparlos de la siguiente manera:\r\n",
    "\r\n",
    "\\* Esto no será un elemento de lista.\r\n",
    "\\[ Esto no será interpretado como una fórmula matemática \\]\r\n",
    "\\# Esto no será un encabezado.\r\n",
    "\r\n",
    "Además, puedes usar la barra invertida para escapar caracteres que tienen un significado especial en HTML, como `<` y `>`.\r\n",
    "\r\n",
    "\\<html\\>\r\n"
   ]
  },
  {
   "cell_type": "markdown",
   "id": "8adcebc6-c63b-415b-baa5-b46ae2289efa",
   "metadata": {},
   "source": [
    "# Ejemplo de Código en Markdown\r\n",
    "\r\n",
    "## Código en línea\r\n",
    "\r\n",
    "Puedes usar comillas simples \\` para resaltar código en línea, como `variable = 10;`.\r\n",
    "\r\n",
    "## Bloques de Código\r\n",
    "\r\n",
    "Para bloques de código, puedes usar triple comillas invertidas (\\`\\`\\`) con el nombre del lenguaje de programación opcional:\r\n",
    "\r\n",
    "```python\r\n",
    "def saludar():\r\n",
    "    print(\"Hola, mundo!\")"
   ]
  }
 ],
 "metadata": {
  "kernelspec": {
   "display_name": "Python 3 (ipykernel)",
   "language": "python",
   "name": "python3"
  },
  "language_info": {
   "codemirror_mode": {
    "name": "ipython",
    "version": 3
   },
   "file_extension": ".py",
   "mimetype": "text/x-python",
   "name": "python",
   "nbconvert_exporter": "python",
   "pygments_lexer": "ipython3",
   "version": "3.11.2"
  }
 },
 "nbformat": 4,
 "nbformat_minor": 5
}
